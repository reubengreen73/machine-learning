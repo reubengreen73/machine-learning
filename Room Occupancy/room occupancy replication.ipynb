{
 "cells": [
  {
   "cell_type": "markdown",
   "id": "polished-approval",
   "metadata": {},
   "source": [
    "## Introduction\n",
    "In this notebook I present an implementation of the method of *Machine Learning-based Occupancy Estimation Using Multivariate Sensor Nodes* (Singh, Jain, Chaudhari, Garg, in *Communication, Computing, and Networking in Cyber Physical Systems 2018*). My purpose in doing this is, firstly, to increase my familiarity with techniues of machine learning, and secondly to demonstrate my knowledge for anyone who might be interested.\n",
    "\n",
    "The original paper and the dataset used may be found on the UC Irvine ML repository at [https://archive.ics.uci.edu/dataset/864/room+occupancy+estimation].\n",
    "\n",
    "## The original work\n",
    "The original paper presents an evaluation of different ML algorithms for estimating the number of occupants of a room using data from non-intrusive sensors. The dataset used was generated over four days in an office room equipped with sensors to measure temperature, light level, sound intensity, and CO<sub>2</sub> concentration, as well as a PIR sensor to detect motion. Measurements from these sensors were recorded every 30 seconds, together with the number of people in the room (via a sign-in/sign-out system). The final feature in the dataset is an estimate of the\n",
    "slope of the CO<sub>2</sub> concentration (obtained from the CO<sub>2</sub> concentration data). See the paper for more detail on how the data was generated.\n",
    "\n",
    "This data was then used to assess the performance of five different ML algorithms for estimating the number of people in the room from the sensor data: Linear Discriminant Analysis (LDA), Quadratic Discriminant Analysis (QDA), Random Forest (RF), and Support Vector Machine (SVM) with both linear and rbf kernels. Accuracy and F1 scores were obtained for these methods using 10-fold cross validation. Further, Principal Component Analysis (PCA) was used to reduce the dimension of the dataset, and the above algorithms were also applied to this principal component data.\n",
    "\n",
    "## My implementation\n",
    "I have attempted to implement the algorithms as described in the original paper in this notebook. However, I have not been able to fully implement some aspects due to the limited computational resources available to me. Full details are given below, but in summmary my personal computer is not able to run some of the SVM training algorithms in a reasonable timeframe and so I have compromised by running these algorithms on a sub-sample of the dataset.\n",
    "\n",
    "\n",
    "### Dataset citation and license\n",
    "The citation for the dataset used here is: Adarsh Pal Singh, Vivek Jain, Sachin Chaudhari, Frank Alexander Kraemer, Stefan Werner and Vishal Garg, \"Machine Learning-Based Occupancy Estimation Using Multivariate Sensor Nodes,\" in 2018 IEEE Globecom Workshops (GC Wkshps), 2018. The dataset is used under a Creative Commons Attribution 4.0 International (CC BY 4.0) license (see the UC Irvine page above for more information)."
   ]
  },
  {
   "cell_type": "code",
   "execution_count": 1,
   "id": "stunning-jaguar",
   "metadata": {},
   "outputs": [],
   "source": [
    "import pandas as pd\n",
    "import numpy as np\n",
    "import itertools,time,datetime,multiprocessing\n",
    "\n",
    "from sklearn.decomposition import PCA\n",
    "from sklearn.model_selection import KFold\n",
    "from sklearn import metrics\n",
    "from sklearn.discriminant_analysis import LinearDiscriminantAnalysis,QuadraticDiscriminantAnalysis\n",
    "from sklearn.ensemble import RandomForestClassifier\n",
    "from sklearn.svm import SVC\n",
    "\n",
    "import matplotlib.pyplot as plt\n",
    "from IPython.display import display, HTML, Markdown"
   ]
  },
  {
   "cell_type": "markdown",
   "id": "improving-pension",
   "metadata": {},
   "source": [
    "# Part 1 - Preparing the data\n",
    "\n",
    "First, we load the data. The feature column names are of the form Sn_xxx, where Sn is the name of the location in the room where the sensor was located (the locations were S1 to S7), and xxx is the type of sensor that produced the data (types are temperature, light level, sound level, CO<sub>2</sub> concentration, and PIR motion sensor, with\n",
    "the estimate of the slope of the CO<sub>2</sub> concentration also included as a feature even though it was calculated from the CO<sub>2</sub> concentration). Note each location had only a subset of the sensor types."
   ]
  },
  {
   "cell_type": "code",
   "execution_count": 2,
   "id": "opening-lesson",
   "metadata": {},
   "outputs": [
    {
     "data": {
      "text/plain": [
       "Index(['Date_Time', 'S1_Temp', 'S2_Temp', 'S3_Temp', 'S4_Temp', 'S1_Light',\n",
       "       'S2_Light', 'S3_Light', 'S4_Light', 'S1_Sound', 'S2_Sound', 'S3_Sound',\n",
       "       'S4_Sound', 'S5_CO2', 'S5_CO2_Slope', 'S6_PIR', 'S7_PIR',\n",
       "       'Room_Occupancy_Count'],\n",
       "      dtype='object')"
      ]
     },
     "metadata": {},
     "output_type": "display_data"
    },
    {
     "name": "stdout",
     "output_type": "stream",
     "text": [
      "Data sorted: True\n"
     ]
    }
   ],
   "source": [
    "# Load the data\n",
    "data = pd.read_csv('Occupancy_Estimation.csv',parse_dates=[['Date', 'Time']])\n",
    "display(data.columns)\n",
    "\n",
    "# Check that the data is sorted by observation time\n",
    "print(f\"Data sorted: {data['Date_Time'].is_monotonic_increasing}\")"
   ]
  },
  {
   "cell_type": "markdown",
   "id": "worth-japan",
   "metadata": {},
   "source": [
    "The paper considers a range of different subsets of the full feature set, as well as components produced by PCA. We now generate these components. Note that data on light levels was not included in the data used as input for the PCA as light levels already gave a high level of predictive accuracy; see the paper for further details."
   ]
  },
  {
   "cell_type": "code",
   "execution_count": 3,
   "id": "neither-barrel",
   "metadata": {},
   "outputs": [],
   "source": [
    "features_data = data.drop(['Date_Time','Room_Occupancy_Count',\n",
    "                          'S1_Light','S2_Light','S3_Light','S4_Light'],axis=1)\n",
    "X = features_data.to_numpy()\n",
    "PCA_datasets = {}\n",
    "PCA_min_comps, PCA_max_comps = 1,12\n",
    "for n in range(PCA_min_comps, PCA_max_comps+1):\n",
    "    pca = PCA(n_components=n)\n",
    "    PCA_datasets[f\"PCA_{n}\"] = pca.fit_transform(X)"
   ]
  },
  {
   "cell_type": "markdown",
   "id": "flexible-fraction",
   "metadata": {},
   "source": [
    "We now extract the various feature sets which we shall feed into our algorithms."
   ]
  },
  {
   "cell_type": "code",
   "execution_count": 4,
   "id": "twelve-liability",
   "metadata": {},
   "outputs": [],
   "source": [
    "# First define the features sets containing data from only one type of sensor, by assigning to each feature set\n",
    "# name a list of columns\n",
    "feature_sets_colnames = {'Temp{1,2,3,4}':['S1_Temp', 'S2_Temp', 'S3_Temp', 'S4_Temp'],\n",
    "                'Light{1,2,3,4}':['S1_Light','S2_Light', 'S3_Light', 'S4_Light'],\n",
    "                'Sound{1,2,3,4}':['S1_Sound','S2_Sound', 'S3_Sound', 'S4_Sound'],\n",
    "                'PIR{6,7}':['S6_PIR', 'S7_PIR'],\n",
    "                'CO2':['S5_CO2'],\n",
    "                'Slope':['S5_CO2_Slope']}\n",
    "\n",
    "# Next define the various feature sets which combine different types of data, and generate the appropriate list\n",
    "# of column names from the existing feature sets\n",
    "compound_feature_set_names = ['CO2, Slope',\n",
    "                              'Temp{1,2,3,4}, CO2, Slope',\n",
    "                              'Temp{1,2,3,4}, CO2, Slope, Sound{1,2,3,4}',\n",
    "                              'Temp{1,2,3,4}, CO2, Slope, Sound{1,2,3,4}, PIR{6,7}',\n",
    "                              'Temp{1,2,3,4}, CO2, Slope, Sound{1,2,3,4}, PIR{6,7}, Light{1,2,3,4}']\n",
    "for cfsn in compound_feature_set_names:\n",
    "    bits = cfsn.split(', ')\n",
    "    feature_set = []\n",
    "    for bit in bits:\n",
    "        feature_set += feature_sets_colnames[bit]\n",
    "    feature_sets_colnames[cfsn] = feature_set\n",
    "    \n",
    "# Store two particular feature set names for use in the final analysis\n",
    "all_features_name = compound_feature_set_names[4]\n",
    "all_features_no_lights_name = compound_feature_set_names[3]\n",
    "\n",
    "# Use the lists of column names to generate numpy arrays, and add in the PCA arrays\n",
    "feature_sets_data = {k:data[feature_sets_colnames[k]].to_numpy() for k in feature_sets_colnames}\n",
    "feature_sets_data.update(PCA_datasets)\n",
    "\n",
    "#Prepare a dictionary to store the scores for the various models and feature sets\n",
    "feature_sets_to_scores = {fs_name:{} for fs_name in feature_sets_data}\n",
    "\n",
    "#Extract the known classifications for our data\n",
    "known_classifications = data['Room_Occupancy_Count'].to_numpy()"
   ]
  },
  {
   "cell_type": "markdown",
   "id": "tired-width",
   "metadata": {},
   "source": [
    "# Part 2 - Some useful functions\n",
    "**model_run():** All of the models considered in the paper are assessed via 10-fold cross-validation to measure accuracy and f1 score, and model_run() packages this functionality conveniently. I have implemented the cross-validation myself rather than using the built-in functions from scikit-learn so that I can easily implement the method described in the paper, where for the SVM models we normalize each training set to have zero mean and unit standard deviation and then apply this same normalization to the test set. Note that as in the original paper the data is not shuffled prior to cross-validation since it is time-series data.\n",
    "\n",
    "**run_timeout()** and its helper function **run_and_enqueue()** allow us to run functions with a timeout, so that the function will be killed if it runs too long. This will be use when doing the hyperparameter tuning for the SVM algorithms.\n",
    "\n",
    "**print_update()** is a little function to allow for running code to give updates on its progress. I found this helpful while developing this notebook and so I have left it in. I left it turned on for the final run of the notebook, but I have deleted the output it produced as this output is no longer relevant after the notebook has run."
   ]
  },
  {
   "cell_type": "code",
   "execution_count": 5,
   "id": "binary-headline",
   "metadata": {},
   "outputs": [],
   "source": [
    "def model_run(estimator,X,y,normalize=False):  \n",
    "    kf = KFold(n_splits=10)\n",
    "    acc_scores = []\n",
    "    f1_scores = []\n",
    "\n",
    "    for train_index,test_index in kf.split(X):\n",
    "        X_train, X_test = X[train_index], X[test_index]\n",
    "        y_train, y_test = y[train_index], y[test_index]\n",
    "        \n",
    "        if normalize:\n",
    "            X_train_mean = X_train.mean(axis=0)\n",
    "            X_train_stddev = X_train.std(axis=0)\n",
    "            X_train = (X_train - X_train_mean)/X_train_stddev\n",
    "            X_test = (X_test - X_train_mean)/X_train_stddev\n",
    "        \n",
    "        estimator.fit(X_train,y_train)\n",
    "        y_pred = estimator.predict(X_test)\n",
    "        acc = metrics.accuracy_score(y_test,y_pred)\n",
    "        f1 = metrics.f1_score(y_test,y_pred,average='macro')\n",
    "        \n",
    "        acc_scores.append(acc)\n",
    "        f1_scores.append(f1)\n",
    "    \n",
    "    # The return value is the pair [accuracy, f1 score], where the values are the averages over the cross-validation\n",
    "    return [np.array(acc_scores).mean(),np.array(f1_scores).mean()]\n",
    "\n",
    "# run_and_enqueue() is just a helper function for run_timeout()\n",
    "def run_and_enqueue(func,args,kwargs,queue):\n",
    "    res = func(*args,**kwargs)\n",
    "    queue.put(res)\n",
    "\n",
    "def run_timeout(func,args,kwargs,timeout):\n",
    "    queue = multiprocessing.Queue()\n",
    "    proc = multiprocessing.Process(target=run_and_enqueue, args=(func,args,kwargs,queue))\n",
    "    proc.start()\n",
    "    proc.join(timeout)\n",
    "    if proc.is_alive():\n",
    "        proc.kill()\n",
    "        return False\n",
    "    else:\n",
    "        return queue.get()\n",
    "\n",
    "# The implementation of print_update using a global variable is a bit crude but sufficient for our needs\n",
    "print_update_on = True  #controls whether print_update() produces output\n",
    "last_msg_len = 0\n",
    "def print_update(msg,last=False):\n",
    "    global last_msg_len\n",
    "    if not print_update_on:\n",
    "        return\n",
    "    to_print = '\\r'+(' '*last_msg_len)+'\\r'+msg\n",
    "    if not last:\n",
    "        print(to_print,end='')\n",
    "        last_msg_len = len(msg)\n",
    "    else:\n",
    "        print(to_print)\n",
    "        last_msg_len"
   ]
  },
  {
   "cell_type": "markdown",
   "id": "stuffed-richardson",
   "metadata": {},
   "source": [
    "# Part 3 - Running the algorithms\n",
    "\n",
    "## LDA and QDA\n",
    "We run LDA and QDA on all of the feature sets"
   ]
  },
  {
   "cell_type": "code",
   "execution_count": null,
   "id": "reverse-hayes",
   "metadata": {},
   "outputs": [],
   "source": [
    "XDA_models = [['LDA',LinearDiscriminantAnalysis()],['QDA',QuadraticDiscriminantAnalysis()]]\n",
    "for feature_sets_data_item,model in itertools.product(feature_sets_data.items(),XDA_models):\n",
    "    model_name,estimator = model\n",
    "    feature_set_name,X = feature_sets_data_item\n",
    "    print_update(f\"{model_name}|{feature_set_name}\") # print progress\n",
    "    acc,f1 = model_run(estimator,X,known_classifications) # measure the performance...\n",
    "    feature_sets_to_scores[feature_set_name][model_name] = [acc,f1] # ...and record it"
   ]
  },
  {
   "cell_type": "markdown",
   "id": "flying-oakland",
   "metadata": {},
   "source": [
    "## Random Forest\n",
    "We run RF on all of the feature sets. As in the paper, we fix the number of trees in the forest at 30, and for each feature set and model we take the average accuracy and f1 score over 100 iterations"
   ]
  },
  {
   "cell_type": "code",
   "execution_count": null,
   "id": "narrative-harbor",
   "metadata": {},
   "outputs": [],
   "source": [
    "model_name = 'RF'\n",
    "estimator = RandomForestClassifier(n_estimators=30)\n",
    "n_iterations = 100\n",
    "\n",
    "for feature_set_name in feature_sets_data:\n",
    "    X = feature_sets_data[feature_set_name]\n",
    "    \n",
    "    # run RF 100 times on the data, keeping a running sum of accuracy and f1\n",
    "    acc,f1 = 0,0\n",
    "    for i in range(0,n_iterations):\n",
    "        print_update(f\"{feature_set_name}: {i+1}\") # print an update of which iteration we are on\n",
    "        res = model_run(estimator,X,known_classifications)\n",
    "        acc += res[0]\n",
    "        f1 += res[1]\n",
    "    print_update(f\"{feature_set_name}: Done\",last=True)\n",
    "\n",
    "    # record the average scores\n",
    "    acc = acc/n_iterations\n",
    "    f1 = f1/n_iterations  \n",
    "    feature_sets_to_scores[feature_set_name][model_name] = [acc,f1]"
   ]
  },
  {
   "cell_type": "markdown",
   "id": "under-nursing",
   "metadata": {},
   "source": [
    "## Support Vector Machine\n",
    "We next apply SVM classifiers with both linear and rbf kernels to our data. This is the point where I have been unable to perform a full replication of the paper's method due to the limited computational resources at my disposal. In the paper, each combination of kernel and feature set is run with different values of the penalty hyperparameter, which I will henceforth in accordance with convention and scikit-learn's notation call *C*. Unfortunately, some of the calculations with high values of C run for multiple hours on my system without finishing, and so I have implemented a strategy where only a small sub-sample of the dataset is used to tune the hyperparameter, and then in *some* cases the full data set is used to assess the performance of the algorithm with this tuned value.\n",
    "\n",
    "**So note that this section is not a true recreation of the method in the paper**\n",
    "\n",
    "The description of the implementation of the SVM models given in the paper is as follows\n",
    "\n",
    "> In case of SVM, the training set features were normalized to have\n",
    "zero mean and unit variance since the algorithm is scale-\n",
    "variant. The normalization constants from the training set were\n",
    "used to scale the testing set at each iteration of the cross\n",
    "validation loop. Apart from linear SVM, we also evaluated the\n",
    "results with RBF kernel to allow for non-linear classification\n",
    "boundaries. The penalty hyperparameter was varied from 10<sup>−4</sup>\n",
    "to 10<sup>4</sup> for each feature set and the best metric value is\n",
    "reported.\n",
    "\n",
    "I have interpreted this to mean that for each combination of model (i.e. SVM with linear kernel or SVM with rbf kernel) and feature set, accuracy and f1 score are calculated (via 10-fold cross-validation with normalization) for each *C* in $\\{0.0001,0.001,0.01,0.1,1,10,100,1000,10000\\}$ and the best accuracy and f1 score obtained are reported (i.e. the reported accuracy and f1 score may come from different *C* values).\n",
    "\n",
    "My compromise implementation is as follows. For each combination of model and feature set, we first make a sub-sampling of the dataset by choosing every 100th record for non-PCA derived feature sets, or every 30th record for PCA-derived feature sets (see below for the logic behind this difference). We then calculate accuracy and f1 score for each *C* value in the set given above by 10-fold cross-validation with normalization using this sub-sampling. We repeat this sub-sampling and calculation a total of 10 times at different offsets into the data, average the scores over these 10 repetitions, and choose the *C* values which give the best values of these metrics. If these chosen *C* values are equal to or less than 100, we recalculate the metrics for these *C* values on the full dataset and report the accuracy or f1 score thus obtained, but if *C* is 1000 or 10000 then we just report the value from the sub-sampling. We make a record of which reported values were computed using just the small sample, so that we can mark these \"suspect\" values in the final analysis.\n",
    "\n",
    "I have chosen different sub-sample factors for the PCA-derived and non-PCA-derived feature sets. This is tenable since we shall not be directly comparing the PCA-derived and non-PCA-derived feature sets in our final analysis. We want to use the largest possible sub-sample, and for the non-PCA-derived feature sets a 30-fold reduction in the size of the dataset produces acceptable running times. However, for the feature set with one principal component, the *C* = 10000 case runs for hours on my machine without terminating. Thus for the principal component feature sets it is necessary to choose a bigger reduction in dataset size, and 100-fold seems to work.\n",
    "\n",
    "Another feature which I have had to implement to enable the code to run with the resources I have available is that, when we are performing the sub-sampling of the data to tune the hyperparameter *C*, we impose a time limit of 10 minutes on each calculation of accuracy and f1 score. If any calculation fails due to timeout, we ignore that sub-sampling and try another one instead.\n",
    "\n",
    "The theory behind my approach is that (according to some brief reading) the running time of an SVM classifier is polynomial in the input size. The exact polynomial degree depending on the kernel and the value of *C*, but it seems that it is typically between 2 and 3 (i.e. between quadratic and cubic). Thus cutting the input size can dramatically cut the running time."
   ]
  },
  {
   "cell_type": "code",
   "execution_count": null,
   "id": "social-pattern",
   "metadata": {
    "scrolled": true
   },
   "outputs": [],
   "source": [
    "C_values = [10**p for p in range(-4,5)]\n",
    "SVC_models = [['SVM (linear)','linear'],['SVM (rbf)','rbf']]\n",
    "\n",
    "SVC_best_C_vals = {}   # to store the C-values corresponding to the best accuracy and f1 scores\n",
    "SVC_suspect_results = [] # to record which metric values are \"suspect\" (see above)\n",
    "\n",
    "# parameters to keep run-time manageable\n",
    "SVC_cutoff_C_val = 1000      # C value at-or-above which the full dataset won't be used at all\n",
    "SVC_main_subset_factor = 30  # sampling factor for non-PCA-derived feature sets\n",
    "SVC_PCA_subset_factor = 100  # sampling factor for PCA-derived feature sets\n",
    "SVC_estimate_repeats = 10    # number of different offsets into the data to use when sub-sampling\n",
    "\n",
    "for feature_sets_data_item,model in itertools.product(feature_sets_data.items(),SVC_models):\n",
    "    model_name,kernel = model\n",
    "    feature_set_name,X = feature_sets_data_item \n",
    "    if feature_set_name.startswith('PCA_'):\n",
    "        subset_factor = SVC_PCA_subset_factor\n",
    "    else:\n",
    "        subset_factor = SVC_main_subset_factor\n",
    "    \n",
    "    # for each C value, estimate the accuracy and f1 scores via a 10-fold sub-sampling of the data\n",
    "    sub_sample_scores = {C_val:[0,0] for C_val in C_values}\n",
    "    for C_val in C_values:\n",
    "        \n",
    "        # try different offsets into the data until we have enough sub-samples\n",
    "        offsets_done = 0\n",
    "        offset = 0\n",
    "        while (offset<subset_factor) and (offsets_done < SVC_estimate_repeats):\n",
    "            X_subset = X[offset::subset_factor]\n",
    "            known_classifications_subset = known_classifications[::subset_factor]\n",
    "            print_update(f\"{model_name}|{feature_set_name}: C={C_val} [small sample, offset={offset}, \"+\\\n",
    "            f\"offsets_done={offsets_done}]\")\n",
    "            estimator = SVC(C=C_val,kernel=kernel)\n",
    "            res = run_timeout(model_run,(estimator,X_subset,known_classifications_subset),\n",
    "                              {'normalize':True},600) # allow at most 10 minutes for each sub-sample\n",
    "            if res != False:\n",
    "                acc,f1 = res\n",
    "                sub_sample_scores[C_val][0] += acc\n",
    "                sub_sample_scores[C_val][1] += f1\n",
    "                offsets_done += 1 \n",
    "            offset += 1\n",
    "\n",
    "        # average the scores over the number of sub-samples\n",
    "        sub_sample_scores[C_val][0] /= offsets_done\n",
    "        sub_sample_scores[C_val][1] /= offsets_done\n",
    "        \n",
    "    # find which C values produce the best accuracy and f1 score\n",
    "    sub_sample_scores_triples = [[C_val]+sub_sample_scores[C_val] for C_val in C_values]\n",
    "    sub_sample_scores_triples.sort(key = lambda P: P[1])\n",
    "    best_acc_pair = [sub_sample_scores_triples[-1][0],sub_sample_scores_triples[-1][1]]\n",
    "    sub_sample_scores_triples.sort(key = lambda P: P[2])\n",
    "    best_f1_pair = [sub_sample_scores_triples[-1][0],sub_sample_scores_triples[-1][2]]\n",
    "    best_C_vals_pair = [best_acc_pair[0],best_f1_pair[0]]\n",
    "    SVC_best_C_vals[f\"{model_name}|{feature_set_name}\"] = best_C_vals_pair\n",
    "  \n",
    "    # now recalculate the accuracy and f1 scores produced by the chosen C values using the whole dataset\n",
    "    # provided that the C values are small enough for the calculation to be viable\n",
    "    C_val_to_do_full = [C_val for C_val in best_C_vals_pair if C_val < SVC_cutoff_C_val] \n",
    "    full_data_scores = {}\n",
    "    for C_val in set(C_val_to_do_full):\n",
    "        print_update(f\"{model_name}|{feature_set_name}: C={C_val} [full data]\")\n",
    "        estimator = SVC(C=C_val,kernel=kernel)\n",
    "        acc,f1 = model_run(estimator,X,known_classifications,normalize=True)\n",
    "        full_data_scores[C_val] = [acc,f1]\n",
    "    print_update(f\"{model_name}|{feature_set_name}: Done\",last=True)\n",
    "    \n",
    "    # record the best accuracy and f1 scores obtained in feature_sets_to_scores\n",
    "    # while also recording if either score was obtained using just the small sample\n",
    "    if best_acc_pair[0] in full_data_scores:\n",
    "        best_acc_pair[1] = full_data_scores[best_acc_pair[0]][0]\n",
    "    else:\n",
    "        SVC_suspect_results.append([feature_set_name,model_name,'acc'])\n",
    "    if best_f1_pair[0] in full_data_scores:\n",
    "        best_f1_pair[1] = full_data_scores[best_f1_pair[0]][1]\n",
    "    else:\n",
    "        SVC_suspect_results.append([feature_set_name,model_name,'f1'])\n",
    "    feature_sets_to_scores[feature_set_name][model_name] = [best_acc_pair[1],best_f1_pair[1]]"
   ]
  },
  {
   "cell_type": "markdown",
   "id": "variable-azerbaijan",
   "metadata": {},
   "source": [
    "# Part 4 - Analysing the results\n",
    "\n",
    "We now perform the same analysis of the results as in the original paper. We begin by recreating the paper's *Table II* with our data, with the additional feature of marking the scores for the SVM classifiers which were obtained using just the sub-sample of the data with an asterisk."
   ]
  },
  {
   "cell_type": "code",
   "execution_count": 9,
   "id": "isolated-syracuse",
   "metadata": {},
   "outputs": [
    {
     "data": {
      "text/markdown": [
       "### Main Results (cf Table II from the paper)"
      ],
      "text/plain": [
       "<IPython.core.display.Markdown object>"
      ]
     },
     "metadata": {},
     "output_type": "display_data"
    },
    {
     "data": {
      "text/html": [
       "<table border=\"1\" class=\"dataframe\">\n",
       "  <thead>\n",
       "    <tr style=\"text-align: right;\">\n",
       "      <th></th>\n",
       "      <th></th>\n",
       "      <th>LDA</th>\n",
       "      <th>QDA</th>\n",
       "      <th>SVM (linear)</th>\n",
       "      <th>SVM (rbf)</th>\n",
       "      <th>RF</th>\n",
       "    </tr>\n",
       "    <tr>\n",
       "      <th>Feature</th>\n",
       "      <th>Metric</th>\n",
       "      <th></th>\n",
       "      <th></th>\n",
       "      <th></th>\n",
       "      <th></th>\n",
       "      <th></th>\n",
       "    </tr>\n",
       "  </thead>\n",
       "  <tbody>\n",
       "    <tr>\n",
       "      <th rowspan=\"2\" valign=\"top\">Temp{1,2,3,4}</th>\n",
       "      <th>A</th>\n",
       "      <td>0.82</td>\n",
       "      <td>0.836</td>\n",
       "      <td>0.823</td>\n",
       "      <td>0.844</td>\n",
       "      <td>0.805</td>\n",
       "    </tr>\n",
       "    <tr>\n",
       "      <th>F1</th>\n",
       "      <td>0.61</td>\n",
       "      <td>0.703</td>\n",
       "      <td>0.561</td>\n",
       "      <td>0.593</td>\n",
       "      <td>0.54</td>\n",
       "    </tr>\n",
       "    <tr>\n",
       "      <th rowspan=\"2\" valign=\"top\">Light{1,2,3,4}</th>\n",
       "      <th>A</th>\n",
       "      <td>0.973</td>\n",
       "      <td>0.874</td>\n",
       "      <td>0.959</td>\n",
       "      <td>0.95</td>\n",
       "      <td>0.964</td>\n",
       "    </tr>\n",
       "    <tr>\n",
       "      <th>F1</th>\n",
       "      <td>0.9</td>\n",
       "      <td>0.756</td>\n",
       "      <td>0.864</td>\n",
       "      <td>0.88</td>\n",
       "      <td>0.777</td>\n",
       "    </tr>\n",
       "    <tr>\n",
       "      <th rowspan=\"2\" valign=\"top\">Sound{1,2,3,4}</th>\n",
       "      <th>A</th>\n",
       "      <td>0.848</td>\n",
       "      <td>0.875</td>\n",
       "      <td>0.857</td>\n",
       "      <td>0.873</td>\n",
       "      <td>0.87</td>\n",
       "    </tr>\n",
       "    <tr>\n",
       "      <th>F1</th>\n",
       "      <td>0.683</td>\n",
       "      <td>0.6</td>\n",
       "      <td>0.63</td>\n",
       "      <td>0.627</td>\n",
       "      <td>0.452</td>\n",
       "    </tr>\n",
       "    <tr>\n",
       "      <th rowspan=\"2\" valign=\"top\">PIR{6,7}</th>\n",
       "      <th>A</th>\n",
       "      <td>0.869</td>\n",
       "      <td>0.859</td>\n",
       "      <td>0.86*</td>\n",
       "      <td>0.86*</td>\n",
       "      <td>0.859</td>\n",
       "    </tr>\n",
       "    <tr>\n",
       "      <th>F1</th>\n",
       "      <td>0.605</td>\n",
       "      <td>0.603</td>\n",
       "      <td>0.601</td>\n",
       "      <td>0.715*</td>\n",
       "      <td>0.612</td>\n",
       "    </tr>\n",
       "    <tr>\n",
       "      <th rowspan=\"2\" valign=\"top\">CO2</th>\n",
       "      <th>A</th>\n",
       "      <td>0.795</td>\n",
       "      <td>0.797</td>\n",
       "      <td>0.809</td>\n",
       "      <td>0.801</td>\n",
       "      <td>0.767</td>\n",
       "    </tr>\n",
       "    <tr>\n",
       "      <th>F1</th>\n",
       "      <td>0.593</td>\n",
       "      <td>0.599</td>\n",
       "      <td>0.589</td>\n",
       "      <td>0.588</td>\n",
       "      <td>0.508</td>\n",
       "    </tr>\n",
       "    <tr>\n",
       "      <th rowspan=\"2\" valign=\"top\">Slope</th>\n",
       "      <th>A</th>\n",
       "      <td>0.854</td>\n",
       "      <td>0.841</td>\n",
       "      <td>0.871*</td>\n",
       "      <td>0.868</td>\n",
       "      <td>0.853</td>\n",
       "    </tr>\n",
       "    <tr>\n",
       "      <th>F1</th>\n",
       "      <td>0.688</td>\n",
       "      <td>0.684</td>\n",
       "      <td>0.714*</td>\n",
       "      <td>0.692</td>\n",
       "      <td>0.494</td>\n",
       "    </tr>\n",
       "    <tr>\n",
       "      <th rowspan=\"2\" valign=\"top\">CO2,<br>Slope</th>\n",
       "      <th>A</th>\n",
       "      <td>0.886</td>\n",
       "      <td>0.859</td>\n",
       "      <td>0.883</td>\n",
       "      <td>0.871</td>\n",
       "      <td>0.85</td>\n",
       "    </tr>\n",
       "    <tr>\n",
       "      <th>F1</th>\n",
       "      <td>0.756</td>\n",
       "      <td>0.68</td>\n",
       "      <td>0.727</td>\n",
       "      <td>0.704</td>\n",
       "      <td>0.626</td>\n",
       "    </tr>\n",
       "    <tr>\n",
       "      <th rowspan=\"2\" valign=\"top\">Temp{1,2,3,4},<br>CO2,<br>Slope</th>\n",
       "      <th>A</th>\n",
       "      <td>0.9</td>\n",
       "      <td>0.846</td>\n",
       "      <td>0.882</td>\n",
       "      <td>0.857</td>\n",
       "      <td>0.84</td>\n",
       "    </tr>\n",
       "    <tr>\n",
       "      <th>F1</th>\n",
       "      <td>0.774</td>\n",
       "      <td>0.719</td>\n",
       "      <td>0.694</td>\n",
       "      <td>0.721</td>\n",
       "      <td>0.611</td>\n",
       "    </tr>\n",
       "    <tr>\n",
       "      <th rowspan=\"2\" valign=\"top\">Temp{1,2,3,4},<br>CO2,<br>Slope,<br>Sound{1,2,3,4}</th>\n",
       "      <th>A</th>\n",
       "      <td>0.906</td>\n",
       "      <td>0.863</td>\n",
       "      <td>0.89</td>\n",
       "      <td>0.888*</td>\n",
       "      <td>0.87</td>\n",
       "    </tr>\n",
       "    <tr>\n",
       "      <th>F1</th>\n",
       "      <td>0.782</td>\n",
       "      <td>0.702</td>\n",
       "      <td>0.754</td>\n",
       "      <td>0.704</td>\n",
       "      <td>0.61</td>\n",
       "    </tr>\n",
       "    <tr>\n",
       "      <th rowspan=\"2\" valign=\"top\">Temp{1,2,3,4},<br>CO2,<br>Slope,<br>Sound{1,2,3,4},<br>PIR{6,7}</th>\n",
       "      <th>A</th>\n",
       "      <td>0.899</td>\n",
       "      <td>0.872</td>\n",
       "      <td>0.886</td>\n",
       "      <td>0.891</td>\n",
       "      <td>0.873</td>\n",
       "    </tr>\n",
       "    <tr>\n",
       "      <th>F1</th>\n",
       "      <td>0.707</td>\n",
       "      <td>0.714</td>\n",
       "      <td>0.66</td>\n",
       "      <td>0.684</td>\n",
       "      <td>0.616</td>\n",
       "    </tr>\n",
       "    <tr>\n",
       "      <th rowspan=\"2\" valign=\"top\">Temp{1,2,3,4},<br>CO2,<br>Slope,<br>Sound{1,2,3,4},<br>PIR{6,7},<br>Light{1,2,3,4}</th>\n",
       "      <th>A</th>\n",
       "      <td>0.972</td>\n",
       "      <td>0.925</td>\n",
       "      <td>0.975</td>\n",
       "      <td>0.935*</td>\n",
       "      <td>0.952</td>\n",
       "    </tr>\n",
       "    <tr>\n",
       "      <th>F1</th>\n",
       "      <td>0.903</td>\n",
       "      <td>0.774</td>\n",
       "      <td>0.877*</td>\n",
       "      <td>0.917</td>\n",
       "      <td>0.924</td>\n",
       "    </tr>\n",
       "  </tbody>\n",
       "</table>"
      ],
      "text/plain": [
       "<IPython.core.display.HTML object>"
      ]
     },
     "metadata": {},
     "output_type": "display_data"
    }
   ],
   "source": [
    "# Put the accuracy and f1 scores which we have obtained into a dataframe for display as a table\n",
    "rows = []\n",
    "model_names = ['LDA','QDA','SVM (linear)','SVM (rbf)','RF']\n",
    "indices_to_star = {'SVM (linear)':[],'SVM (rbf)':[]}\n",
    "i=0\n",
    "for fs_name in feature_sets_to_scores:\n",
    "    if fs_name.startswith('PCA_'):\n",
    "        continue\n",
    "    acc_row = [fs_name,'A']\n",
    "    f1_row = [fs_name,'F1']\n",
    "    for model_name in model_names :\n",
    "        acc_row.append(feature_sets_to_scores[fs_name][model_name][0])\n",
    "        f1_row.append(feature_sets_to_scores[fs_name][model_name][1])\n",
    "        if [fs_name,model_name,'acc'] in SVC_suspect_results:\n",
    "            indices_to_star[model_name].append(i)\n",
    "        if [fs_name,model_name,'f1'] in SVC_suspect_results:\n",
    "            indices_to_star[model_name].append(i+1)\n",
    "    rows += [acc_row,f1_row]\n",
    "    i+=2\n",
    "results_df = pd.DataFrame(rows,columns=['Feature','Metric']+model_names)\n",
    "\n",
    "# Do some formatting:\n",
    "# (1) round the values in the table to 3 decimal places\n",
    "# (2) convert the numerical values to strings (to enable the next step)\n",
    "# (3) mark with an asterisk those results for SVM classifiers which were obtained using just a sub-sample\n",
    "#     of the data\n",
    "rounded_results_df = results_df.round(decimals=3)\n",
    "for mn in model_names:\n",
    "    rounded_results_df[mn] = rounded_results_df[mn].astype(str)\n",
    "for k in indices_to_star:\n",
    "    rounded_results_df.loc[indices_to_star[k],k] = \\\n",
    "    rounded_results_df.loc[indices_to_star[k],k].apply(lambda x: x+'*')\n",
    "\n",
    "# Do some cosmetic improvements and display the table (I am sure that there are more elegant ways to do this\n",
    "# using the features of pandas but this works well enough)\n",
    "rounded_results_df['Feature'] = rounded_results_df['Feature'].apply(lambda x: x.replace(' ','\\n'))\n",
    "rounded_results_df = rounded_results_df.set_index(['Feature','Metric'])\n",
    "display(Markdown('### Main Results (cf Table II from the paper)'))\n",
    "display(HTML(rounded_results_df.to_html().replace(\"\\\\n\",\"<br>\")))"
   ]
  },
  {
   "cell_type": "markdown",
   "id": "occupational-vietnam",
   "metadata": {},
   "source": [
    "Note that the two columns containing scores for the SVM models cannot be regarded as a true replication of the corresponding columns in the paper's  *Table II* since the choice of which *C* value to use when computing these scores was chosen by tuning on a small sub-sample of the data only. Further, the values in the table that are marked with an asterisk were themselves computed using only this small sub-sample and so should be regarded as rough approximations only.\n",
    "\n",
    "Next, let us recreate the graph in the paper's *Fig. 5*, showing the performance of the PCA-derived datasets using f1 score."
   ]
  },
  {
   "cell_type": "code",
   "execution_count": 10,
   "id": "social-upper",
   "metadata": {},
   "outputs": [
    {
     "data": {
      "text/markdown": [
       "PCA-reduced dataset F1 performance"
      ],
      "text/plain": [
       "<IPython.core.display.Markdown object>"
      ]
     },
     "metadata": {},
     "output_type": "display_data"
    },
    {
     "data": {
      "image/png": "[encoded data removed]",
      "text/plain": [
       "<Figure size 432x288 with 1 Axes>"
      ]
     },
     "metadata": {
      "needs_background": "light"
     },
     "output_type": "display_data"
    }
   ],
   "source": [
    "# Pull the PCA f1 scores out of the stored results and format them for graphing\n",
    "model_f1_scores = {k:[] for k in model_names}\n",
    "for n in range(PCA_min_comps, PCA_max_comps+1):\n",
    "    scores = feature_sets_to_scores[f\"PCA_{n}\"]\n",
    "    for k in scores:\n",
    "        model_f1_scores[k].append(scores[k][1])\n",
    "\n",
    "# Create the graph\n",
    "display(Markdown('PCA-reduced dataset F1 performance'))\n",
    "for k in model_f1_scores:\n",
    "    label = k+'*' if 'SVM' in k else k\n",
    "    plt.plot(list(range(PCA_min_comps, PCA_max_comps+1)),model_f1_scores[k],label=label)\n",
    "plt.ylabel('F1 Score')\n",
    "plt.xlabel('No. of PCA components')\n",
    "plt.legend()\n",
    "plt.show()"
   ]
  },
  {
   "cell_type": "markdown",
   "id": "alpine-practitioner",
   "metadata": {},
   "source": [
    "As above, I have marked the SVM plots with an asterisk to show that they are not true recreations of the results in the paper.\n",
    "\n",
    "Finally, let us recreate the confusion matrices shown in *Table III* and *Table IV* in the paper. These tables in the paper show the confusion matrices of two cases of the SVM models trained using certain feature sets on the whole dataset. In particular\n",
    "* *Table III* shows the confusion matrix for SVM with linear kernel on the complete feature set *except* the light\n",
    "  data, with the best-performing (by f1 score, I *think*) *C* value\n",
    "* *Table IV* shows the confusion matrix for SVM with rbf kernel on the complete feature set, with the best-performing (by f1 score, I *think*) *C* value.\n",
    "\n",
    "Due to the sub-sampling method I have used for the SVM models, my confusion matrices are not a true replication of those in the paper. As with the table above, this is due to both the use of sub-sampling in tuning the hyperparameter, and also the use of the sub-sample to compute the matrix itself. I have used the sub-sampling method above for **all** *C*-values here, since for some reason fitting the models to the full dataset seems to run for many hours without finishing on my system, even for low *C*-values.\n",
    "\n",
    "**Thus the matrices obtained here are not a true replication of those in the paper, but rather just illustrative estimates obtained from small sub-samples**\n",
    "\n",
    "I think the original paper selected the best *C* value for these matrices by f1 score (although this is not explicitly stated in the paper), but I have included also the matrices for the *C* value with the best accuracy score in the case where this is different."
   ]
  },
  {
   "cell_type": "code",
   "execution_count": 11,
   "id": "ideal-metabolism",
   "metadata": {},
   "outputs": [
    {
     "data": {
      "text/markdown": [
       "**NB: all matrices obtained using small sample estimates**"
      ],
      "text/plain": [
       "<IPython.core.display.Markdown object>"
      ]
     },
     "metadata": {},
     "output_type": "display_data"
    },
    {
     "name": "stdout",
     "output_type": "stream",
     "text": [
      "                                                                                                  \n"
     ]
    },
    {
     "data": {
      "text/markdown": [
       "Linear SVM, all features except lights (C = 1, best by Accuracy)"
      ],
      "text/plain": [
       "<IPython.core.display.Markdown object>"
      ]
     },
     "metadata": {},
     "output_type": "display_data"
    },
    {
     "data": {
      "text/html": [
       "<div>\n",
       "<style scoped>\n",
       "    .dataframe tbody tr th:only-of-type {\n",
       "        vertical-align: middle;\n",
       "    }\n",
       "\n",
       "    .dataframe tbody tr th {\n",
       "        vertical-align: top;\n",
       "    }\n",
       "\n",
       "    .dataframe thead th {\n",
       "        text-align: right;\n",
       "    }\n",
       "</style>\n",
       "<table border=\"1\" class=\"dataframe\">\n",
       "  <thead>\n",
       "    <tr style=\"text-align: right;\">\n",
       "      <th></th>\n",
       "      <th>Predicted 0</th>\n",
       "      <th>Predicted 1</th>\n",
       "      <th>Predicted 2</th>\n",
       "      <th>Predicted 3</th>\n",
       "    </tr>\n",
       "  </thead>\n",
       "  <tbody>\n",
       "    <tr>\n",
       "      <th>Actual 0</th>\n",
       "      <td>272.8</td>\n",
       "      <td>0.1</td>\n",
       "      <td>1.4</td>\n",
       "      <td>0.0</td>\n",
       "    </tr>\n",
       "    <tr>\n",
       "      <th>Actual 1</th>\n",
       "      <td>5.3</td>\n",
       "      <td>9.1</td>\n",
       "      <td>0.9</td>\n",
       "      <td>0.1</td>\n",
       "    </tr>\n",
       "    <tr>\n",
       "      <th>Actual 2</th>\n",
       "      <td>1.1</td>\n",
       "      <td>1.4</td>\n",
       "      <td>21.9</td>\n",
       "      <td>1.9</td>\n",
       "    </tr>\n",
       "    <tr>\n",
       "      <th>Actual 3</th>\n",
       "      <td>0.2</td>\n",
       "      <td>1.1</td>\n",
       "      <td>2.5</td>\n",
       "      <td>18.2</td>\n",
       "    </tr>\n",
       "  </tbody>\n",
       "</table>\n",
       "</div>"
      ],
      "text/plain": [
       "          Predicted 0  Predicted 1  Predicted 2  Predicted 3\n",
       "Actual 0        272.8          0.1          1.4          0.0\n",
       "Actual 1          5.3          9.1          0.9          0.1\n",
       "Actual 2          1.1          1.4         21.9          1.9\n",
       "Actual 3          0.2          1.1          2.5         18.2"
      ]
     },
     "metadata": {},
     "output_type": "display_data"
    },
    {
     "data": {
      "text/html": [
       "<hr/>"
      ],
      "text/plain": [
       "<IPython.core.display.HTML object>"
      ]
     },
     "metadata": {},
     "output_type": "display_data"
    },
    {
     "name": "stdout",
     "output_type": "stream",
     "text": [
      "                                                                                                  \n"
     ]
    },
    {
     "data": {
      "text/markdown": [
       "Linear SVM, all features except lights (C = 0.1, best by F1)"
      ],
      "text/plain": [
       "<IPython.core.display.Markdown object>"
      ]
     },
     "metadata": {},
     "output_type": "display_data"
    },
    {
     "data": {
      "text/html": [
       "<div>\n",
       "<style scoped>\n",
       "    .dataframe tbody tr th:only-of-type {\n",
       "        vertical-align: middle;\n",
       "    }\n",
       "\n",
       "    .dataframe tbody tr th {\n",
       "        vertical-align: top;\n",
       "    }\n",
       "\n",
       "    .dataframe thead th {\n",
       "        text-align: right;\n",
       "    }\n",
       "</style>\n",
       "<table border=\"1\" class=\"dataframe\">\n",
       "  <thead>\n",
       "    <tr style=\"text-align: right;\">\n",
       "      <th></th>\n",
       "      <th>Predicted 0</th>\n",
       "      <th>Predicted 1</th>\n",
       "      <th>Predicted 2</th>\n",
       "      <th>Predicted 3</th>\n",
       "    </tr>\n",
       "  </thead>\n",
       "  <tbody>\n",
       "    <tr>\n",
       "      <th>Actual 0</th>\n",
       "      <td>271.9</td>\n",
       "      <td>0.0</td>\n",
       "      <td>1.8</td>\n",
       "      <td>0.5</td>\n",
       "    </tr>\n",
       "    <tr>\n",
       "      <th>Actual 1</th>\n",
       "      <td>10.6</td>\n",
       "      <td>2.5</td>\n",
       "      <td>2.5</td>\n",
       "      <td>0.1</td>\n",
       "    </tr>\n",
       "    <tr>\n",
       "      <th>Actual 2</th>\n",
       "      <td>2.2</td>\n",
       "      <td>0.9</td>\n",
       "      <td>21.0</td>\n",
       "      <td>2.1</td>\n",
       "    </tr>\n",
       "    <tr>\n",
       "      <th>Actual 3</th>\n",
       "      <td>0.7</td>\n",
       "      <td>1.3</td>\n",
       "      <td>3.1</td>\n",
       "      <td>16.8</td>\n",
       "    </tr>\n",
       "  </tbody>\n",
       "</table>\n",
       "</div>"
      ],
      "text/plain": [
       "          Predicted 0  Predicted 1  Predicted 2  Predicted 3\n",
       "Actual 0        271.9          0.0          1.8          0.5\n",
       "Actual 1         10.6          2.5          2.5          0.1\n",
       "Actual 2          2.2          0.9         21.0          2.1\n",
       "Actual 3          0.7          1.3          3.1         16.8"
      ]
     },
     "metadata": {},
     "output_type": "display_data"
    },
    {
     "data": {
      "text/html": [
       "<hr/>"
      ],
      "text/plain": [
       "<IPython.core.display.HTML object>"
      ]
     },
     "metadata": {},
     "output_type": "display_data"
    },
    {
     "name": "stdout",
     "output_type": "stream",
     "text": [
      "                                                                                             \n"
     ]
    },
    {
     "data": {
      "text/markdown": [
       "RBF SVM, all features (C = 10000, best by Accuracy)"
      ],
      "text/plain": [
       "<IPython.core.display.Markdown object>"
      ]
     },
     "metadata": {},
     "output_type": "display_data"
    },
    {
     "data": {
      "text/html": [
       "<div>\n",
       "<style scoped>\n",
       "    .dataframe tbody tr th:only-of-type {\n",
       "        vertical-align: middle;\n",
       "    }\n",
       "\n",
       "    .dataframe tbody tr th {\n",
       "        vertical-align: top;\n",
       "    }\n",
       "\n",
       "    .dataframe thead th {\n",
       "        text-align: right;\n",
       "    }\n",
       "</style>\n",
       "<table border=\"1\" class=\"dataframe\">\n",
       "  <thead>\n",
       "    <tr style=\"text-align: right;\">\n",
       "      <th></th>\n",
       "      <th>Predicted 0</th>\n",
       "      <th>Predicted 1</th>\n",
       "      <th>Predicted 2</th>\n",
       "      <th>Predicted 3</th>\n",
       "    </tr>\n",
       "  </thead>\n",
       "  <tbody>\n",
       "    <tr>\n",
       "      <th>Actual 0</th>\n",
       "      <td>274.2</td>\n",
       "      <td>0.0</td>\n",
       "      <td>0.0</td>\n",
       "      <td>0.0</td>\n",
       "    </tr>\n",
       "    <tr>\n",
       "      <th>Actual 1</th>\n",
       "      <td>0.0</td>\n",
       "      <td>15.7</td>\n",
       "      <td>0.0</td>\n",
       "      <td>0.0</td>\n",
       "    </tr>\n",
       "    <tr>\n",
       "      <th>Actual 2</th>\n",
       "      <td>0.0</td>\n",
       "      <td>0.0</td>\n",
       "      <td>26.2</td>\n",
       "      <td>0.0</td>\n",
       "    </tr>\n",
       "    <tr>\n",
       "      <th>Actual 3</th>\n",
       "      <td>0.3</td>\n",
       "      <td>0.0</td>\n",
       "      <td>0.0</td>\n",
       "      <td>21.6</td>\n",
       "    </tr>\n",
       "  </tbody>\n",
       "</table>\n",
       "</div>"
      ],
      "text/plain": [
       "          Predicted 0  Predicted 1  Predicted 2  Predicted 3\n",
       "Actual 0        274.2          0.0          0.0          0.0\n",
       "Actual 1          0.0         15.7          0.0          0.0\n",
       "Actual 2          0.0          0.0         26.2          0.0\n",
       "Actual 3          0.3          0.0          0.0         21.6"
      ]
     },
     "metadata": {},
     "output_type": "display_data"
    },
    {
     "data": {
      "text/html": [
       "<hr/>"
      ],
      "text/plain": [
       "<IPython.core.display.HTML object>"
      ]
     },
     "metadata": {},
     "output_type": "display_data"
    },
    {
     "name": "stdout",
     "output_type": "stream",
     "text": [
      "                                                                                    \n"
     ]
    },
    {
     "data": {
      "text/markdown": [
       "RBF SVM, all features (C = 1, best by F1)"
      ],
      "text/plain": [
       "<IPython.core.display.Markdown object>"
      ]
     },
     "metadata": {},
     "output_type": "display_data"
    },
    {
     "data": {
      "text/html": [
       "<div>\n",
       "<style scoped>\n",
       "    .dataframe tbody tr th:only-of-type {\n",
       "        vertical-align: middle;\n",
       "    }\n",
       "\n",
       "    .dataframe tbody tr th {\n",
       "        vertical-align: top;\n",
       "    }\n",
       "\n",
       "    .dataframe thead th {\n",
       "        text-align: right;\n",
       "    }\n",
       "</style>\n",
       "<table border=\"1\" class=\"dataframe\">\n",
       "  <thead>\n",
       "    <tr style=\"text-align: right;\">\n",
       "      <th></th>\n",
       "      <th>Predicted 0</th>\n",
       "      <th>Predicted 1</th>\n",
       "      <th>Predicted 2</th>\n",
       "      <th>Predicted 3</th>\n",
       "    </tr>\n",
       "  </thead>\n",
       "  <tbody>\n",
       "    <tr>\n",
       "      <th>Actual 0</th>\n",
       "      <td>274.2</td>\n",
       "      <td>0.0</td>\n",
       "      <td>0.0</td>\n",
       "      <td>0.0</td>\n",
       "    </tr>\n",
       "    <tr>\n",
       "      <th>Actual 1</th>\n",
       "      <td>0.0</td>\n",
       "      <td>15.4</td>\n",
       "      <td>0.3</td>\n",
       "      <td>0.0</td>\n",
       "    </tr>\n",
       "    <tr>\n",
       "      <th>Actual 2</th>\n",
       "      <td>0.0</td>\n",
       "      <td>0.1</td>\n",
       "      <td>24.5</td>\n",
       "      <td>1.6</td>\n",
       "    </tr>\n",
       "    <tr>\n",
       "      <th>Actual 3</th>\n",
       "      <td>6.0</td>\n",
       "      <td>0.0</td>\n",
       "      <td>1.3</td>\n",
       "      <td>14.6</td>\n",
       "    </tr>\n",
       "  </tbody>\n",
       "</table>\n",
       "</div>"
      ],
      "text/plain": [
       "          Predicted 0  Predicted 1  Predicted 2  Predicted 3\n",
       "Actual 0        274.2          0.0          0.0          0.0\n",
       "Actual 1          0.0         15.4          0.3          0.0\n",
       "Actual 2          0.0          0.1         24.5          1.6\n",
       "Actual 3          6.0          0.0          1.3         14.6"
      ]
     },
     "metadata": {},
     "output_type": "display_data"
    },
    {
     "data": {
      "text/html": [
       "<hr/>"
      ],
      "text/plain": [
       "<IPython.core.display.HTML object>"
      ]
     },
     "metadata": {},
     "output_type": "display_data"
    }
   ],
   "source": [
    "# define which models and feature sets we are interested in, and give a description of them\n",
    "kernel_and_fs_names = [['linear',all_features_no_lights_name,'Linear SVM, all features except lights'],\n",
    "                      ['rbf',all_features_name,'RBF SVM, all features']]\n",
    "\n",
    "# Labels for the rows and columns of these matrices (note that the number of people in the room varied between\n",
    "# 0 and 3)\n",
    "matrix_labels_dict = {'index':[f\"Actual {n}\" for n in range(0,4)],\n",
    "                      'columns':[f\"Predicted {n}\" for n in range(0,4)]}\n",
    "\n",
    "def get_confusion_matrix(estimator,X,y):\n",
    "    estimator.fit(X,y)\n",
    "    return metrics.confusion_matrix(y,estimator.predict(X),labels=[0,1,2,3])\n",
    "\n",
    "display(Markdown('**NB: all matrices obtained using small sample estimates**'))\n",
    "\n",
    "for kernel,fs_name,descr in kernel_and_fs_names:\n",
    "    \n",
    "    # Pull out the best-performing C values\n",
    "    C_vals = SVC_best_C_vals[f\"SVM ({kernel})|{fs_name}\"]\n",
    "    # If best accuracy and f1 come from the same C value, we only want to compute the confusion\n",
    "    # matrix once, but otherwise we want the confusion matrix for both accuracy and f1 score\n",
    "    if C_vals[0] == C_vals[1]:\n",
    "        loop_params = [['Accuracy and F1',0]]\n",
    "    else:\n",
    "        loop_params = [['Accuracy',0],['F1',1]]\n",
    "        \n",
    "    # Create and display the matrices. Depending on the result of the previous if-else, this loop\n",
    "    # will either run once or twice\n",
    "    for metric_name,ind in loop_params:\n",
    "        X = feature_sets_data[fs_name]\n",
    "        y = known_classifications\n",
    "     \n",
    "        # as above, perform repeated sub-smamplings of the data and take the average\n",
    "        offsets_done = 0\n",
    "        offset = 0\n",
    "        CM_list = []\n",
    "        while (offset<SVC_main_subset_factor) and (offsets_done < SVC_estimate_repeats):\n",
    "            X_subset = X[offset::SVC_main_subset_factor]\n",
    "            y_subset = y[offset::SVC_main_subset_factor]\n",
    "            print_update(f\"{descr} for {metric_name}: C={C_vals[ind]} [small sample, offset={offset}, \"+\\\n",
    "            f\"offsets_done={offsets_done}]\")\n",
    "            estimator = SVC(C=C_vals[ind],kernel=kernel)\n",
    "            res = run_timeout(get_confusion_matrix,(estimator,X_subset,y_subset),{},600)\n",
    "            if type(res) != type(False): # nasty hack!\n",
    "                CM_list.append(res)\n",
    "                offsets_done += 1 \n",
    "            offset += 1\n",
    "        CM = np.mean(CM_list, axis=0) # take the average of the confusion matrices obtained\n",
    "        print_update(\"\",last=True)\n",
    "\n",
    "        # display the confusion matrix\n",
    "        df_CM = pd.DataFrame(CM,**matrix_labels_dict)\n",
    "        display(Markdown(f\"{descr} (C = {C_vals[ind]}, best by {metric_name})\"))\n",
    "        display(df_CM)\n",
    "        display(HTML('<hr/>'))"
   ]
  }
 ],
 "metadata": {
  "kernelspec": {
   "display_name": "Python 3",
   "language": "python",
   "name": "python3"
  },
  "language_info": {
   "codemirror_mode": {
    "name": "ipython",
    "version": 3
   },
   "file_extension": ".py",
   "mimetype": "text/x-python",
   "name": "python",
   "nbconvert_exporter": "python",
   "pygments_lexer": "ipython3",
   "version": "3.9.2"
  }
 },
 "nbformat": 4,
 "nbformat_minor": 5
}
